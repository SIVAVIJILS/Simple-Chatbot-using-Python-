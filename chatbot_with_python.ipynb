{
  "nbformat": 4,
  "nbformat_minor": 0,
  "metadata": {
    "colab": {
      "provenance": []
    },
    "kernelspec": {
      "name": "python3",
      "display_name": "Python 3"
    },
    "language_info": {
      "name": "python"
    }
  },
  "cells": [
    {
      "cell_type": "markdown",
      "source": [
        "**Building a Chat Bot using python**"
      ],
      "metadata": {
        "id": "TskKUXfu1si5"
      }
    },
    {
      "cell_type": "markdown",
      "source": [
        "**#Importing the Libraries**"
      ],
      "metadata": {
        "id": "EthQHMBo2H1_"
      }
    },
    {
      "cell_type": "code",
      "source": [
        "import numpy as np\n",
        "import nltk # library for natural language processing\n",
        "import string # to process and handles strings in python\n",
        "import random # here used in greeting responses"
      ],
      "metadata": {
        "id": "PQNCfJFc2Vk_"
      },
      "execution_count": null,
      "outputs": []
    },
    {
      "cell_type": "markdown",
      "source": [
        "# To create a corpus ,copy a file from wikipedia or any and store as a \".txt\" format in notepad and then upload here in the file section."
      ],
      "metadata": {
        "id": "tUYBuI62gd8C"
      }
    },
    {
      "cell_type": "markdown",
      "source": [
        "**#Importing and reading the Corpus**"
      ],
      "metadata": {
        "id": "xM5FXfcZ32tO"
      }
    },
    {
      "cell_type": "code",
      "source": [
        "f= open('chatbox.txt','r',errors='ignore')\n",
        "raw_doc=f.read()\n",
        "raw_doc=raw_doc.lower() # convert  texts to lowercase\n",
        "nltk.download('punkt') # using the punkt Tokenizer-pre trained tokenizer, it has the complete capabilies to build a model around what is required and give the answer\n",
        "nltk.download('wordnet') # using the WordNet Dictionary\n",
        "sent_tokens=nltk.sent_tokenize(raw_doc) # converts doc to list of sentences\n",
        "word_tokens= nltk.word_tokenize(raw_doc) # converts doc to list of words\n"
      ],
      "metadata": {
        "id": "HtkjziA22_he"
      },
      "execution_count": null,
      "outputs": []
    },
    {
      "cell_type": "markdown",
      "source": [
        "# Examples of sentence tokens"
      ],
      "metadata": {
        "id": "e8VHi91RhswL"
      }
    },
    {
      "cell_type": "code",
      "source": [
        "sent_tokens[:2] # first two sentences"
      ],
      "metadata": {
        "id": "bv7UXNH0gT3c"
      },
      "execution_count": null,
      "outputs": []
    },
    {
      "cell_type": "markdown",
      "source": [
        "# Examples of word tokens"
      ],
      "metadata": {
        "id": "TpgB7kzFioR7"
      }
    },
    {
      "cell_type": "code",
      "source": [
        "word_tokens[:2] # first two words"
      ],
      "metadata": {
        "id": "-b7iuENvixXj"
      },
      "execution_count": null,
      "outputs": []
    },
    {
      "cell_type": "markdown",
      "source": [
        "**#Text processing** #-Removing the punctuations, converting text to lower or upper"
      ],
      "metadata": {
        "id": "rgUpIOCRjnZx"
      }
    },
    {
      "cell_type": "code",
      "source": [
        "\n",
        "lemmer= nltk.stem.WordNetLemmatizer()\n",
        "#wordNet is a semantically_oriented dictionary of English included in NLTK\n",
        "def LemTokens(tokens):\n",
        "  return [lemmer.lemmatize(token) for token in tokens]\n",
        "remove_punct_dict=dict((ord(punct),None)for punct in string.punctuation)\n",
        "def LemNormalize(text):\n",
        "  return LemTokens(nltk.word_tokenize(text.lower().translate(remove_punct_dict)))"
      ],
      "metadata": {
        "id": "KaXZMpfvi70q"
      },
      "execution_count": null,
      "outputs": []
    },
    {
      "cell_type": "markdown",
      "source": [
        "**#Defining the GREETING Function**"
      ],
      "metadata": {
        "id": "Ix6sAqnurXxP"
      }
    },
    {
      "cell_type": "code",
      "source": [
        "GREET_INPUTS=(\"hello\",\"hi\",\"greetings\",\"sup\",\"what's up\",\"hey\",\"vanakam\")\n",
        "GREET_RESPONSES=[\"hi\",\"hey\",\"*nods*\",\"hi there!\",\"hello\",\"I am glad! You are talking to me\",\"vanakam!-koorungal(hello!-tell me)\"]\n",
        "def greet(sentence):\n",
        "\n",
        "  for word in sentence.split():\n",
        "    if word.lower() in GREET_INPUTS:\n",
        "      return random.choice(GREET_RESPONSES)"
      ],
      "metadata": {
        "id": "ICKTDJ9Spgun"
      },
      "execution_count": null,
      "outputs": []
    },
    {
      "cell_type": "markdown",
      "source": [
        "**#Response Generation-Giving Answer to our Questions**"
      ],
      "metadata": {
        "id": "DouMcKIlvcqQ"
      }
    },
    {
      "cell_type": "code",
      "source": [
        "from sklearn.feature_extraction.text import TfidfVectorizer\n",
        "#Tfidfvectorizer-Term Frequency and Inverse Document Frequency vectorizer\n",
        "# Term frequency- how many times the each word is repeated in our corpus\n",
        "#Inverse Document Frequency- How rare the word is repeated in our corpus\n",
        "\n",
        "from sklearn.metrics.pairwise import cosine_similarity\n",
        "# cosine_similarity- once we have bag of words and everything is in terms of 0's and 1's,the cosine similarity will takes all of that...\n",
        "#and gives us a normalize output for the machines to understand"
      ],
      "metadata": {
        "id": "OuVLxsHBvQOK"
      },
      "execution_count": null,
      "outputs": []
    },
    {
      "cell_type": "markdown",
      "source": [
        "#To give resonses for our questions"
      ],
      "metadata": {
        "id": "_A_xW6c82pZr"
      }
    },
    {
      "cell_type": "code",
      "source": [
        "def response(user_response):\n",
        "  robo1_response=''\n",
        "  Tfidfvec=TfidfVectorizer(tokenizer=LemNormalize,stop_words='english')\n",
        "  tfidf=Tfidfvec.fit_transform(sent_tokens)\n",
        "  vals=cosine_similarity(tfidf[-1],tfidf)\n",
        "  idx=vals.argsort()[0][-2]\n",
        "  flat=vals.flatten()\n",
        "  flat.sort()\n",
        "  req_tfidf=flat[-2]\n",
        "  if(req_tfidf==0):\n",
        "    robo1_response=robo1_response + \"I am sorry! I dont understand you\"\n",
        "    return robo1_response\n",
        "  else:\n",
        "    robo1_response=robo1_response + sent_tokens[idx]\n",
        "    return robo1_response"
      ],
      "metadata": {
        "id": "vduhaxqB2LTS"
      },
      "execution_count": null,
      "outputs": []
    },
    {
      "cell_type": "markdown",
      "source": [
        "**#Defining conversation start/end protocals**\n",
        "#To find the start and end of a conversation"
      ],
      "metadata": {
        "id": "fF4MgUUn-dEM"
      }
    },
    {
      "cell_type": "code",
      "source": [
        "flag=True\n",
        "print(\"BOT:My name is Leon.I will tell you what I know! Also you can type 'Bye'! to exit any time you want\")\n",
        "while(flag==True):\n",
        "  user_response=input()\n",
        "  user_response=user_response.lower()\n",
        "  if(user_response!='bye'):\n",
        "    if(user_response=='thanks'or user_response=='thank you'or user_response=='nandri'):\n",
        "      flag=True\n",
        "      print(\"Bot:You are Welcome(Thaangalai Varaverkiren)..\")\n",
        "    else:\n",
        "      if(greet(user_response)!=None):\n",
        "        print(\"Bot: \"+ greet(user_response))\n",
        "      else:\n",
        "        sent_tokens.append(user_response)\n",
        "        word_tokens=word_tokens+nltk.word_tokenize(user_response)\n",
        "        final_words=list(set(word_tokens))\n",
        "        print(\"Bot: \",end=\"\")\n",
        "        print(response(user_response))\n",
        "        sent_tokens.remove(user_response)\n",
        "  else:\n",
        "    flag=False\n",
        "    print(\"Bot: Bye! Take Care <3(Nandri,Meendum Santhikalaam)\")\n",
        "\n",
        "\n"
      ],
      "metadata": {
        "id": "6_WPlHYf-TAi"
      },
      "execution_count": null,
      "outputs": []
    },
    {
      "cell_type": "code",
      "source": [],
      "metadata": {
        "id": "Vz2kqSxIb290"
      },
      "execution_count": null,
      "outputs": []
    }
  ]
}